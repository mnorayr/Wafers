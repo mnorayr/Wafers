{
 "cells": [
  {
   "cell_type": "code",
   "execution_count": 8,
   "metadata": {},
   "outputs": [],
   "source": [
    "import numpy as np\n",
    "import pandas as pd\n",
    "from sklearn.preprocessing import MinMaxScaler, StandardScaler \n",
    "from sklearn.metrics import roc_curve, auc\n",
    "from scipy.io.arff import loadarff \n",
    "\n",
    "# from tf.keras.models import Sequential  # This does not work!\n",
    "import tensorflow as tf\n",
    "from tensorflow.python.keras.models import Sequential\n",
    "from tensorflow.python.keras.layers import Input, Dense, GRU, Embedding,LSTM, CuDNNLSTM, Flatten, MaxPooling1D\n",
    "from tensorflow.python.keras.layers import BatchNormalization, Dropout, TimeDistributed, Conv1D, Conv2D\n",
    "from tensorflow.python.keras.optimizers import adam\n",
    "from tensorflow.python.keras.callbacks import Callback, EarlyStopping, ModelCheckpoint, TensorBoard, ReduceLROnPlateau\n",
    "import matplotlib.pyplot as plt\n",
    "\n",
    "from time import time\n",
    "\n",
    "def draw_roc_keras(model,xt, yt):\n",
    "    predictions = model.predict(xt)\n",
    "    # for in in range(2):\n",
    "    fpr, tpr, thr = roc_curve(yt, predictions) #[:,1])\n",
    "    roc_auc = auc(fpr, tpr)\n",
    "    plt.figure()\n",
    "    lw = 2\n",
    "    plt.plot(fpr, tpr, color='darkorange',\n",
    "             lw=lw, label='ROC curve (area = %0.2f)' % roc_auc)\n",
    "    plt.plot([0, 1], [0, 1], color='navy', lw=lw, linestyle='--')\n",
    "    plt.xlim([0.0, 1.0])\n",
    "    plt.ylim([0.0, 1.05])\n",
    "    plt.xlabel('False Positive Rate')\n",
    "    plt.ylabel('True Positive Rate')\n",
    "    plt.title('Receiver operating characteristic {};'.format('keras'))\n",
    "    plt.legend(loc=\"lower right\")\n",
    "    plt.ion()\n",
    "\n",
    "    # plt.interactive(False)\n",
    "    plt.show()\n",
    "    return predictions"
   ]
  },
  {
   "cell_type": "code",
   "execution_count": 9,
   "metadata": {},
   "outputs": [
    {
     "name": "stdout",
     "output_type": "stream",
     "text": [
      "Data  Logs  Models  Wafer2.ipynb  wafer.ipynb\r\n"
     ]
    }
   ],
   "source": [
    "!ls\n"
   ]
  },
  {
   "cell_type": "code",
   "execution_count": 10,
   "metadata": {},
   "outputs": [
    {
     "name": "stdout",
     "output_type": "stream",
     "text": [
      "(6164, 153)\n",
      "(1000, 153)\n",
      "(6164, 153) (1000, 153)\n"
     ]
    }
   ],
   "source": [
    "train_path=\"Data/Wafer_TEST.arff\"\n",
    "test_path=\"Data/Wafer_TRAIN.arff\"\n",
    "\n",
    "def read_ariff(path):\n",
    "    raw_data, meta =loadarff(path)\n",
    "    cols=[x for x in meta]\n",
    "    data2d=np.zeros([raw_data.shape[0],len(cols)])\n",
    "    for i,col in zip(range(len(cols)),cols):\n",
    "        data2d[:,i]=raw_data[col]\n",
    "    print(data2d.shape)\n",
    "    return data2d\n",
    "\n",
    "data2d=read_ariff(train_path)\n",
    "test2d=read_ariff(test_path)\n",
    "print(data2d.shape, test2d.shape)\n"
   ]
  },
  {
   "cell_type": "code",
   "execution_count": 11,
   "metadata": {},
   "outputs": [
    {
     "data": {
      "text/plain": [
       "array([[-1.0797068 , -1.0832556 , -1.0797068 , ..., -1.0797068 ,\n",
       "        -1.0797068 ,  1.        ],\n",
       "       [-1.0801972 , -1.0780206 , -1.0780206 , ..., -1.1280824 ,\n",
       "        -1.1302591 ,  1.        ],\n",
       "       [-1.1540601 , -1.1540601 , -1.1540601 , ..., -1.1540601 ,\n",
       "        -1.1540601 ,  1.        ],\n",
       "       ...,\n",
       "       [ 0.70005233,  0.87486827,  0.83643961, ...,  0.76522617,\n",
       "         0.80986946, -1.        ],\n",
       "       [-1.5170472 , -1.5800206 , -1.60292   , ..., -1.0590593 ,\n",
       "        -1.0590593 ,  1.        ],\n",
       "       [-1.1325453 , -1.1325453 , -1.1325453 , ..., -1.1325453 ,\n",
       "        -1.1325453 ,  1.        ]])"
      ]
     },
     "execution_count": 11,
     "metadata": {},
     "output_type": "execute_result"
    }
   ],
   "source": [
    "data2d"
   ]
  },
  {
   "cell_type": "code",
   "execution_count": 12,
   "metadata": {},
   "outputs": [
    {
     "data": {
      "image/png": "[encoded data removed]",
      "text/plain": [
       "<Figure size 432x288 with 1 Axes>"
      ]
     },
     "metadata": {
      "needs_background": "light"
     },
     "output_type": "display_data"
    }
   ],
   "source": [
    "plt.plot(data2d[16,:])\n",
    "plt.show()"
   ]
  },
  {
   "cell_type": "markdown",
   "metadata": {},
   "source": [
    "Splitting into validation and training"
   ]
  },
  {
   "cell_type": "code",
   "execution_count": 13,
   "metadata": {},
   "outputs": [
    {
     "name": "stdout",
     "output_type": "stream",
     "text": [
      "(5499, 153) (665, 153)\n",
      "(5064, 153) (1100, 153)\n"
     ]
    }
   ],
   "source": [
    "failed=data2d[data2d[:,-1]==1]\n",
    "not_failed=data2d[data2d[:,-1]==-1]\n",
    "print(failed.shape, not_failed.shape)\n",
    "\n",
    "train2d=np.concatenate((failed[:int(0.8*failed.shape[0])],\n",
    "                       not_failed[:int(0.8*failed.shape[0])]),\n",
    "                       axis=0)\n",
    "\n",
    "val2d=np.concatenate((failed[int(0.8*failed.shape[0]):],\n",
    "                       not_failed[int(0.8*failed.shape[0]):]),\n",
    "                       axis=0)\n",
    "\n",
    "np.random.shuffle(train2d)\n",
    "np.random.shuffle(val2d)\n",
    "\n",
    "print(train2d.shape, val2d.shape)"
   ]
  },
  {
   "cell_type": "markdown",
   "metadata": {},
   "source": [
    "Making 3d arrays"
   ]
  },
  {
   "cell_type": "code",
   "execution_count": 14,
   "metadata": {},
   "outputs": [
    {
     "name": "stdout",
     "output_type": "stream",
     "text": [
      "(5064, 152, 2) (1100, 152, 2) (1000, 152, 2)\n"
     ]
    }
   ],
   "source": [
    "def make3d(data):\n",
    "    df=data.copy()\n",
    "    x,y=df.shape\n",
    "    data3d=np.zeros([x,y-1,2])\n",
    "    for i in range(x):\n",
    "        data3d[i,:,0]=df[i][:-1].T\n",
    "        data3d[i,:,1]=np.full((y-1),df[i][-1])\n",
    "    return data3d\n",
    "\n",
    "train3d=make3d(train2d)\n",
    "val3d  =make3d(val2d)\n",
    "test3d =make3d(test2d)\n",
    "print(train3d.shape, val3d.shape, test3d.shape)"
   ]
  },
  {
   "cell_type": "markdown",
   "metadata": {},
   "source": [
    "Scaling the data"
   ]
  },
  {
   "cell_type": "code",
   "execution_count": 15,
   "metadata": {},
   "outputs": [
    {
     "name": "stdout",
     "output_type": "stream",
     "text": [
      "(5064, 152, 1) (1100, 152, 1) (1000, 152, 1)\n",
      "(5064, 152) (1100, 152) (1000, 152)\n",
      "(5064, 152, 1) (1100, 152, 1) (1000, 152, 1)\n",
      "(5064,) (1100,) (1000,)\n"
     ]
    }
   ],
   "source": [
    "def scale_d(data):\n",
    "    df=data.copy()\n",
    "    df_scaled=np.zeros(df.shape)\n",
    "    scaler = MinMaxScaler(feature_range=(-1, 1))\n",
    "    stder = StandardScaler()\n",
    "    for i in range(df.shape[0]):\n",
    "        df_scaled[i,:,0]=stder.fit_transform(\n",
    "                                         df[i,:,0].reshape((df.shape[1], 1))\n",
    "                                         ).reshape((df.shape[1]))\n",
    "#         df_scaled[i,:,0]=scaler.fit_transform(\n",
    "#                                          df[i,:,0].reshape((df.shape[1], 1))\n",
    "#                                          ).reshape((df.shape[1]))\n",
    "        df_scaled[i,:,1]=df[i,:,1]\n",
    "    return df_scaled\n",
    "\n",
    "train_scaled=scale_d(train3d)\n",
    "val_scaled  =scale_d(val3d)\n",
    "test_scaled =scale_d(test3d)\n",
    "\n",
    "x_train  =np.expand_dims(train_scaled[:,:,0],axis=2)\n",
    "y_train  =train_scaled[:,:,1]\n",
    "y_train_e=np.expand_dims(y_train,axis=2)\n",
    "y_train_s=y_train[:,0]\n",
    "y_train_s=np.array([1. if x==1. else 0. for x in y_train[:,0]])\n",
    "\n",
    "\n",
    "x_val   =np.expand_dims(val_scaled[:,:,0],axis=2)\n",
    "y_val   =val_scaled[:,:,1]\n",
    "y_val_e =np.expand_dims(y_val,axis=2)\n",
    "y_val_s =y_val[:,0]\n",
    "y_val_s=np.array([1. if x==1. else 0. for x in y_val[:,0]])\n",
    "\n",
    "\n",
    "x_test  =np.expand_dims(test_scaled[:,:,0],axis=2)\n",
    "y_test  =test_scaled[:,:,1]\n",
    "y_test_e=np.expand_dims(y_test,axis=2)\n",
    "y_test_s=y_test[:,0]\n",
    "y_test_s=np.array([1. if x==1. else 0. for x in y_test[:,0]])\n",
    "\n",
    "print(x_train.shape,x_val.shape,x_test.shape)\n",
    "print(y_train.shape,y_val.shape,y_test.shape)\n",
    "print(y_train_e.shape,y_val_e.shape,y_test_e.shape)\n",
    "print(y_train_s.shape,y_val_s.shape,y_test_s.shape)"
   ]
  },
  {
   "cell_type": "code",
   "execution_count": 16,
   "metadata": {},
   "outputs": [
    {
     "data": {
      "image/png": "[encoded data removed]",
      "text/plain": [
       "<Figure size 432x288 with 1 Axes>"
      ]
     },
     "metadata": {
      "needs_background": "light"
     },
     "output_type": "display_data"
    }
   ],
   "source": [
    "plt.plot(x_train[11,:,0])\n",
    "plt.show()"
   ]
  },
  {
   "cell_type": "markdown",
   "metadata": {},
   "source": [
    "Genereator function"
   ]
  },
  {
   "cell_type": "markdown",
   "metadata": {},
   "source": [
    "# Creating the model"
   ]
  },
  {
   "cell_type": "markdown",
   "metadata": {},
   "source": [
    "## The Best Model"
   ]
  },
  {
   "cell_type": "code",
   "execution_count": 36,
   "metadata": {},
   "outputs": [
    {
     "name": "stdout",
     "output_type": "stream",
     "text": [
      "Train on 5064 samples, validate on 1100 samples\n",
      "Epoch 1/10\n",
      "5064/5064 [==============================] - 2s 455us/step - loss: 0.1498 - acc: 0.9461 - val_loss: 0.0152 - val_acc: 0.9955\n",
      "Epoch 2/10\n",
      "5064/5064 [==============================] - 2s 396us/step - loss: 0.0321 - acc: 0.9911 - val_loss: 0.0010 - val_acc: 1.0000\n",
      "Epoch 3/10\n",
      "5064/5064 [==============================] - 2s 402us/step - loss: 0.0215 - acc: 0.9939 - val_loss: 0.0036 - val_acc: 0.9982\n",
      "Epoch 4/10\n",
      "5064/5064 [==============================] - 2s 399us/step - loss: 0.0154 - acc: 0.9962 - val_loss: 0.0053 - val_acc: 0.9991\n",
      "Epoch 5/10\n",
      "5064/5064 [==============================] - 2s 396us/step - loss: 0.0174 - acc: 0.9959 - val_loss: 0.0017 - val_acc: 1.0000\n",
      "Epoch 6/10\n",
      "5064/5064 [==============================] - 2s 404us/step - loss: 0.0169 - acc: 0.9957 - val_loss: 0.0113 - val_acc: 0.9973\n",
      "Epoch 7/10\n",
      "5064/5064 [==============================] - 2s 397us/step - loss: 0.0170 - acc: 0.9951 - val_loss: 4.7113e-04 - val_acc: 1.0000\n",
      "Epoch 8/10\n",
      "5064/5064 [==============================] - 2s 388us/step - loss: 0.0105 - acc: 0.9978 - val_loss: 0.0021 - val_acc: 0.9991\n",
      "Epoch 9/10\n",
      "5064/5064 [==============================] - 2s 393us/step - loss: 0.0096 - acc: 0.9980 - val_loss: 5.7442e-04 - val_acc: 1.0000\n",
      "Epoch 10/10\n",
      "5064/5064 [==============================] - 2s 391us/step - loss: 0.0085 - acc: 0.9984 - val_loss: 0.0010 - val_acc: 1.0000\n",
      "_________________________________________________________________\n",
      "Layer (type)                 Output Shape              Param #   \n",
      "=================================================================\n",
      "cu_dnnlstm_10 (CuDNNLSTM)    (None, 152, 100)          41200     \n",
      "_________________________________________________________________\n",
      "flatten_10 (Flatten)         (None, 15200)             0         \n",
      "_________________________________________________________________\n",
      "dense_10 (Dense)             (None, 1)                 15201     \n",
      "=================================================================\n",
      "Total params: 56,401\n",
      "Trainable params: 56,401\n",
      "Non-trainable params: 0\n",
      "_________________________________________________________________\n"
     ]
    }
   ],
   "source": [
    "EPOCHS= 10\n",
    "\n",
    "NAME = f\"LSTM_{int(time())}\"\n",
    "model_d = Sequential()\n",
    "\n",
    "\n",
    "# model_d.add(BatchNormalization(input_shape=(seq_len,1)))\n",
    "model_d.add(CuDNNLSTM(units=100,\n",
    "              return_sequences=True,\n",
    "              input_shape=(x_train.shape[1],1)))\n",
    "\n",
    "model_d.add(Flatten())\n",
    "\n",
    "model_d.add(Dense(1, activation='sigmoid'))\n",
    "\n",
    "model_d.compile(loss='binary_crossentropy', optimizer='adam', metrics=['accuracy'])\n",
    "\n",
    "tensorboard=TensorBoard(log_dir='Logs/{}'.format(NAME))\n",
    "\n",
    "callbacks=[tensorboard]\n",
    "\n",
    "model_d.fit(x_train, y_train_s,\n",
    "                    epochs=EPOCHS,\n",
    "                    validation_data = (x_val, y_val_s),\n",
    "                    callbacks=callbacks\n",
    "                   )\n",
    "model_d.summary()\n"
   ]
  },
  {
   "cell_type": "code",
   "execution_count": 37,
   "metadata": {},
   "outputs": [
    {
     "name": "stdout",
     "output_type": "stream",
     "text": [
      "acc: 99.80%\n"
     ]
    },
    {
     "data": {
      "image/png": "[encoded data removed]",
      "text/plain": [
       "<Figure size 432x288 with 1 Axes>"
      ]
     },
     "metadata": {
      "needs_background": "light"
     },
     "output_type": "display_data"
    },
    {
     "data": {
      "image/png": "[encoded data removed]",
      "text/plain": [
       "<Figure size 432x288 with 1 Axes>"
      ]
     },
     "metadata": {
      "needs_background": "light"
     },
     "output_type": "display_data"
    },
    {
     "name": "stdout",
     "output_type": "stream",
     "text": [
      "acc: 99.80%\n"
     ]
    }
   ],
   "source": [
    "scores = model_d.evaluate([x_test[:,-seq_len:,:]], y_test_s, verbose=0)\n",
    "print(\"%s: %.2f%%\" % (model_d.metrics_names[1], scores[1]*100))\n",
    "pred=draw_roc_keras(model_d,[x_test[:,:seq_len,:]],y_test_s)\n",
    "pred=draw_roc_keras(model_d,[x_test[:,-seq_len:,:]],y_test_s)\n",
    "print(\"%s: %.2f%%\" % (model_d.metrics_names[1], scores[1]*100))"
   ]
  },
  {
   "cell_type": "code",
   "execution_count": null,
   "metadata": {},
   "outputs": [],
   "source": []
  }
 ],
 "metadata": {
  "kernelspec": {
   "display_name": "Python 3",
   "language": "python",
   "name": "python3"
  },
  "language_info": {
   "codemirror_mode": {
    "name": "ipython",
    "version": 3
   },
   "file_extension": ".py",
   "mimetype": "text/x-python",
   "name": "python",
   "nbconvert_exporter": "python",
   "pygments_lexer": "ipython3",
   "version": "3.6.6"
  }
 },
 "nbformat": 4,
 "nbformat_minor": 2
}
